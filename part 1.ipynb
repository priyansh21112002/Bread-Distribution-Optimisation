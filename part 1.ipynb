{
 "cells": [
  {
   "cell_type": "code",
   "execution_count": 1,
   "id": "c1446fd5-fbdc-432a-af2c-10cf4426d96d",
   "metadata": {},
   "outputs": [],
   "source": [
    "import numpy as np\n",
    "from pyomo.environ import *\n",
    "import pandas as pd"
   ]
  },
  {
   "cell_type": "code",
   "execution_count": 2,
   "id": "1f9ea6f9-6daa-40d6-9562-70138d5613ee",
   "metadata": {},
   "outputs": [],
   "source": [
    "model = ConcreteModel()"
   ]
  },
  {
   "cell_type": "code",
   "execution_count": 3,
   "id": "2eecab78-6e17-40ff-9a8a-62aa196f7c1c",
   "metadata": {},
   "outputs": [],
   "source": [
    "model.plants = RangeSet(1, 3)\n",
    "model.dcs = RangeSet(1, 12)\n",
    "\n",
    "capacity = {1: 120, 2: 90, 3: 100}\n",
    "model.capacity = Param(model.plants, initialize=capacity)\n",
    "\n",
    "prod_cost = {1: 8, 2: 7, 3: 9}\n",
    "model.prod_cost = Param(model.plants, initialize=prod_cost)"
   ]
  },
  {
   "cell_type": "code",
   "execution_count": 4,
   "id": "a7dbe172-b966-4dbc-8537-3c25a9595eda",
   "metadata": {},
   "outputs": [],
   "source": [
    "trans_cost = {\n",
    "    (1,1):2, (1,2):3, (1,3):2, (1,4):3, (1,5):5, (1,6):4.4, (1,7):3.2, (1,8):3, (1,9):1.5, (1,10):3, (1,11):6.0, (1,12):1.0,\n",
    "    (2,1):1.9, (2,2):3, (2,3):2.4, (2,4):2.4, (2,5):2, (2,6):4.1, (2,7):2.8, (2,8):3, (2,9):1.7, (2,10):2, (2,11):1.0, (2,12):4.5,\n",
    "    (3,1):3.1, (3,2):1.8, (3,3):2.8, (3,4):3.4, (3,5):2, (3,6):2.9, (3,7):2.2, (3,8):3.2, (3,9):2, (3,10):2.8, (3,11):4.5, (3,12):6.0\n",
    "}"
   ]
  },
  {
   "cell_type": "code",
   "execution_count": 5,
   "id": "366a9eaf-8074-4819-86a3-bdece568561b",
   "metadata": {},
   "outputs": [],
   "source": [
    "model.trans_cost = Param(model.plants, model.dcs, initialize=trans_cost)\n",
    "\n",
    "demand = {1:20, 2:30, 3:40, 4:35, 5:15, 6:19, 7:25, 8:20, 9:18, 10:12, 11:30, 12:40}\n",
    "model.demand = Param(model.dcs, initialize=demand)\n",
    "\n",
    "model.selling_price = Param(initialize=20)\n",
    "\n",
    "model.x = Var(model.plants, model.dcs, domain=NonNegativeReals)"
   ]
  },
  {
   "cell_type": "code",
   "execution_count": 6,
   "id": "be50f870-275a-4996-9c58-cbc18493aa73",
   "metadata": {},
   "outputs": [],
   "source": [
    "def obj_rule(model):\n",
    "    return sum((model.selling_price - model.prod_cost[i] - model.trans_cost[i,j]) * model.x[i,j] \n",
    "               for i in model.plants for j in model.dcs)\n",
    "model.objective = Objective(rule=obj_rule, sense=maximize)"
   ]
  },
  {
   "cell_type": "code",
   "execution_count": 7,
   "id": "5d963626-5bc0-4c3b-8342-a894ea83b13a",
   "metadata": {},
   "outputs": [],
   "source": [
    "def capacity_rule(model, i):\n",
    "    return sum(model.x[i,j] for j in model.dcs) <= model.capacity[i]\n",
    "model.capacity_constraint = Constraint(model.plants, rule=capacity_rule)"
   ]
  },
  {
   "cell_type": "code",
   "execution_count": 8,
   "id": "9add1692-b09a-44fa-8f38-54ceb9bb4c08",
   "metadata": {},
   "outputs": [],
   "source": [
    "def demand_rule(model, j):\n",
    "    return sum(model.x[i,j] for i in model.plants) == model.demand[j]"
   ]
  },
  {
   "cell_type": "code",
   "execution_count": 9,
   "id": "93a95dae-fa9a-44a5-8d9e-3caa3ba371a9",
   "metadata": {},
   "outputs": [
    {
     "name": "stdout",
     "output_type": "stream",
     "text": [
      "\n",
      "Optimal solution found!\n",
      "\n",
      "Optimal Profit: ₹30,652,000.00\n",
      "\n",
      "Optimal Distribution Plan:\n",
      "From Plant -> To DC: Quantity\n",
      "Plant 1 -> DC 1: 7.0\n",
      "Plant 1 -> DC 3: 40.0\n",
      "Plant 1 -> DC 8: 15.0\n",
      "Plant 1 -> DC 9: 18.0\n",
      "Plant 1 -> DC 12: 40.0\n",
      "Plant 2 -> DC 1: 13.0\n",
      "Plant 2 -> DC 4: 35.0\n",
      "Plant 2 -> DC 10: 12.0\n",
      "Plant 2 -> DC 11: 30.0\n",
      "Plant 3 -> DC 2: 30.0\n",
      "Plant 3 -> DC 5: 15.0\n",
      "Plant 3 -> DC 6: 19.0\n",
      "Plant 3 -> DC 7: 25.0\n",
      "Plant 3 -> DC 8: 5.0\n",
      "\n",
      "Total Production per Plant:\n",
      "Plant 1: 120.0\n",
      "Plant 2: 90.0\n",
      "Plant 3: 94.0\n"
     ]
    }
   ],
   "source": [
    "model.demand_constraint = Constraint(model.dcs, rule=demand_rule)\n",
    "\n",
    "solver = SolverFactory('glpk')\n",
    "results = solver.solve(model)\n",
    "\n",
    "if results.solver.status == SolverStatus.ok and results.solver.termination_condition == TerminationCondition.optimal:\n",
    "    print(\"\\nOptimal solution found!\")\n",
    "    \n",
    "    print(f\"\\nOptimal Profit: ₹{value(model.objective) * 10000:,.2f}\")\n",
    "    \n",
    "    print(\"\\nOptimal Distribution Plan:\")\n",
    "    print(\"From Plant -> To DC: Quantity\")\n",
    "    for i in model.plants:\n",
    "        for j in model.dcs:\n",
    "            if value(model.x[i,j]) > 0.01: \n",
    "                print(f\"Plant {i} -> DC {j}: {value(model.x[i,j]):,.1f}\")\n",
    "    \n",
    "    print(\"\\nTotal Production per Plant:\")\n",
    "    for i in model.plants:\n",
    "        total = sum(value(model.x[i,j]) for j in model.dcs)\n",
    "        print(f\"Plant {i}: {total:,.1f}\")\n",
    "        \n",
    "else:\n",
    "    print(\"No optimal solution found.\")"
   ]
  },
  {
   "cell_type": "code",
   "execution_count": 10,
   "id": "c9cf12e4-9067-4ba1-a3b9-f22142b3a902",
   "metadata": {},
   "outputs": [
    {
     "name": "stdout",
     "output_type": "stream",
     "text": [
      "\n",
      "Detailed Distribution Matrix:\n",
      "         DC-1  DC-2  DC-3  DC-4  DC-5  DC-6  DC-7  DC-8  DC-9  DC-10  DC-11  \\\n",
      "Plant 1   7.0   0.0  40.0   0.0   0.0   0.0   0.0  15.0  18.0    0.0    0.0   \n",
      "Plant 2  13.0   0.0   0.0  35.0   0.0   0.0   0.0   0.0   0.0   12.0   30.0   \n",
      "Plant 3   0.0  30.0   0.0   0.0  15.0  19.0  25.0   5.0   0.0    0.0    0.0   \n",
      "\n",
      "         DC-12  \n",
      "Plant 1   40.0  \n",
      "Plant 2    0.0  \n",
      "Plant 3    0.0  \n"
     ]
    }
   ],
   "source": [
    "results_df = pd.DataFrame(\n",
    "    [[value(model.x[i,j]) for j in model.dcs] for i in model.plants],\n",
    "    index=['Plant 1', 'Plant 2', 'Plant 3'],\n",
    "    columns=[f'DC-{j}' for j in model.dcs]\n",
    ")\n",
    "print(\"\\nDetailed Distribution Matrix:\")\n",
    "print(results_df.round(2))\n"
   ]
  },
  {
   "cell_type": "code",
   "execution_count": null,
   "id": "03860d1c-6cdb-4c5a-8daf-ef9655faf352",
   "metadata": {},
   "outputs": [],
   "source": []
  }
 ],
 "metadata": {
  "kernelspec": {
   "display_name": "Python 3 (ipykernel)",
   "language": "python",
   "name": "python3"
  },
  "language_info": {
   "codemirror_mode": {
    "name": "ipython",
    "version": 3
   },
   "file_extension": ".py",
   "mimetype": "text/x-python",
   "name": "python",
   "nbconvert_exporter": "python",
   "pygments_lexer": "ipython3",
   "version": "3.10.8"
  }
 },
 "nbformat": 4,
 "nbformat_minor": 5
}
